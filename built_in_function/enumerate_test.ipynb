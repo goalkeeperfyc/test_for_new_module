{
 "cells": [
  {
   "cell_type": "code",
   "execution_count": 6,
   "metadata": {},
   "outputs": [
    {
     "name": "stdout",
     "output_type": "stream",
     "text": [
      "The index is 0. The value is Spring\n",
      "The index is 1. The value is Summer\n",
      "The index is 2. The value is Fall\n",
      "The index is 3. The value is Winter\n",
      "====================\n",
      "The index is 1. The value is Spring\n",
      "The index is 2. The value is Summer\n",
      "The index is 3. The value is Fall\n",
      "The index is 4. The value is Winter\n",
      "The type of index 4 is <class 'int'>\n"
     ]
    }
   ],
   "source": [
    "season = [\"Spring\", \"Summer\", \"Fall\", \"Winter\"]\n",
    "\n",
    "for index, value in enumerate(season):\n",
    "    print(\"The index is \" + str(index) + \". The value is \" + value)\n",
    "    \n",
    "print(\"=\"*20)\n",
    "\n",
    "for index, value in enumerate(season, start=1):\n",
    "    print(\"The index is \" + str(index) + \". The value is \" + value)\n",
    "\n",
    "print(\"The type of index \" + str(index) + \" is \" + str(type(index)))"
   ]
  },
  {
   "cell_type": "code",
   "execution_count": null,
   "metadata": {},
   "outputs": [],
   "source": []
  }
 ],
 "metadata": {
  "kernelspec": {
   "display_name": "Python 3",
   "language": "python",
   "name": "python3"
  },
  "language_info": {
   "codemirror_mode": {
    "name": "ipython",
    "version": 3
   },
   "file_extension": ".py",
   "mimetype": "text/x-python",
   "name": "python",
   "nbconvert_exporter": "python",
   "pygments_lexer": "ipython3",
   "version": "3.6.8"
  }
 },
 "nbformat": 4,
 "nbformat_minor": 2
}

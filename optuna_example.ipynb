{
 "cells": [
  {
   "cell_type": "code",
   "execution_count": 1,
   "metadata": {},
   "outputs": [
    {
     "name": "stderr",
     "output_type": "stream",
     "text": [
      "[I 2019-12-05 19:28:42,400] Finished trial#0 resulted in value: 0.9800000000000001. Current best value is 0.9800000000000001 with parameters: {'C': 1.2363827130515455}.\n",
      "[I 2019-12-05 19:28:42,470] Finished trial#1 resulted in value: 0.9666666666666668. Current best value is 0.9800000000000001 with parameters: {'C': 1.2363827130515455}.\n",
      "[I 2019-12-05 19:28:42,539] Finished trial#2 resulted in value: 0.96. Current best value is 0.9800000000000001 with parameters: {'C': 1.2363827130515455}.\n",
      "[I 2019-12-05 19:28:42,610] Finished trial#3 resulted in value: 0.9333333333333333. Current best value is 0.9800000000000001 with parameters: {'C': 1.2363827130515455}.\n",
      "[I 2019-12-05 19:28:42,673] Finished trial#4 resulted in value: 0.9333333333333333. Current best value is 0.9800000000000001 with parameters: {'C': 1.2363827130515455}.\n",
      "[I 2019-12-05 19:28:42,745] Finished trial#5 resulted in value: 0.9333333333333333. Current best value is 0.9800000000000001 with parameters: {'C': 1.2363827130515455}.\n",
      "[I 2019-12-05 19:28:42,815] Finished trial#6 resulted in value: 0.9666666666666666. Current best value is 0.9800000000000001 with parameters: {'C': 1.2363827130515455}.\n",
      "[I 2019-12-05 19:28:42,885] Finished trial#7 resulted in value: 0.9400000000000001. Current best value is 0.9800000000000001 with parameters: {'C': 1.2363827130515455}.\n",
      "[I 2019-12-05 19:28:42,958] Finished trial#8 resulted in value: 0.9400000000000001. Current best value is 0.9800000000000001 with parameters: {'C': 1.2363827130515455}.\n",
      "[I 2019-12-05 19:28:43,027] Finished trial#9 resulted in value: 0.96. Current best value is 0.9800000000000001 with parameters: {'C': 1.2363827130515455}.\n"
     ]
    }
   ],
   "source": [
    "import optuna\n",
    "from sklearn.datasets import load_iris\n",
    "from sklearn.svm import SVC\n",
    "clf = SVC(gamma='auto')\n",
    "param_distributions = {\n",
    "    'C': optuna.distributions.LogUniformDistribution(1e-10, 1e+10)\n",
    "}\n",
    "\n",
    "optuna_search = optuna.integration.OptunaSearchCV(\n",
    "    clf,\n",
    "    param_distributions\n",
    ")\n",
    "\n",
    "X, y = load_iris(return_X_y=True)\n",
    "optuna_search.fit(X, y) # doctest: +ELLIPSIS\n",
    "# OptunaSearchCV(...)\n",
    "y_pred = optuna_search.predict(X)"
   ]
  },
  {
   "cell_type": "code",
   "execution_count": null,
   "metadata": {},
   "outputs": [],
   "source": []
  }
 ],
 "metadata": {
  "kernelspec": {
   "display_name": "Python 3",
   "language": "python",
   "name": "python3"
  },
  "language_info": {
   "codemirror_mode": {
    "name": "ipython",
    "version": 3
   },
   "file_extension": ".py",
   "mimetype": "text/x-python",
   "name": "python",
   "nbconvert_exporter": "python",
   "pygments_lexer": "ipython3",
   "version": "3.6.9"
  }
 },
 "nbformat": 4,
 "nbformat_minor": 2
}

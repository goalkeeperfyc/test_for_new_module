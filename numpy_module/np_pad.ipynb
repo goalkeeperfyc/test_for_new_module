{
 "cells": [
  {
   "cell_type": "code",
   "execution_count": 4,
   "metadata": {},
   "outputs": [
    {
     "name": "stdout",
     "output_type": "stream",
     "text": [
      "[6 6 1 2 3 4 5 9 9 9 9 9]\n"
     ]
    }
   ],
   "source": [
    "import numpy as np\n",
    "\n",
    "# numpy.pad(array, pad_width, mode, **kwargs)\n",
    "\n",
    "# mode: str or function\n",
    "# 'constent': Pads with a constant value\n",
    "\n",
    "a = [1, 2 ,3, 4, 5]\n",
    "a_pad = np.pad(a, (2, 5), \"constant\", constant_values=(6, 9))\n",
    "print(a_pad)"
   ]
  },
  {
   "cell_type": "code",
   "execution_count": null,
   "metadata": {},
   "outputs": [],
   "source": []
  }
 ],
 "metadata": {
  "kernelspec": {
   "display_name": "Python 3",
   "language": "python",
   "name": "python3"
  },
  "language_info": {
   "codemirror_mode": {
    "name": "ipython",
    "version": 3
   },
   "file_extension": ".py",
   "mimetype": "text/x-python",
   "name": "python",
   "nbconvert_exporter": "python",
   "pygments_lexer": "ipython3",
   "version": "3.6.8"
  }
 },
 "nbformat": 4,
 "nbformat_minor": 2
}
